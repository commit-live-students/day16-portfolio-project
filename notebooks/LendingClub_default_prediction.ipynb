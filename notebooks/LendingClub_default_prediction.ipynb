{
 "cells": [
  {
   "cell_type": "markdown",
   "metadata": {},
   "source": [
    "# Default Prediction"
   ]
  },
  {
   "cell_type": "code",
   "execution_count": 1,
   "metadata": {
    "collapsed": false
   },
   "outputs": [
    {
     "name": "stdout",
     "output_type": "stream",
     "text": [
      "Populating the interactive namespace from numpy and matplotlib\n"
     ]
    }
   ],
   "source": [
    "#imports and settings\n",
    "import pandas as pd \n",
    "pd.set_option('display.expand_frame_repr', False)\n",
    "import numpy as np\n",
    "from matplotlib import pyplot as plt \n",
    "plt.style.use('fivethirtyeight')\n",
    "from patsy import dmatrices\n",
    "%pylab inline\n",
    "#import warnings\n",
    "#warnings.filterwarnings('ignore')"
   ]
  },
  {
   "cell_type": "code",
   "execution_count": 2,
   "metadata": {
    "collapsed": true
   },
   "outputs": [],
   "source": [
    "df = pd.read_csv('./loan.csv', low_memory = False)"
   ]
  },
  {
   "cell_type": "code",
   "execution_count": 4,
   "metadata": {
    "collapsed": false
   },
   "outputs": [
    {
     "data": {
      "text/html": [
       "<div>\n",
       "<style>\n",
       "    .dataframe thead tr:only-child th {\n",
       "        text-align: right;\n",
       "    }\n",
       "\n",
       "    .dataframe thead th {\n",
       "        text-align: left;\n",
       "    }\n",
       "\n",
       "    .dataframe tbody tr th {\n",
       "        vertical-align: top;\n",
       "    }\n",
       "</style>\n",
       "<table border=\"1\" class=\"dataframe\">\n",
       "  <thead>\n",
       "    <tr style=\"text-align: right;\">\n",
       "      <th></th>\n",
       "      <th>id</th>\n",
       "      <th>member_id</th>\n",
       "      <th>loan_amnt</th>\n",
       "      <th>funded_amnt</th>\n",
       "      <th>funded_amnt_inv</th>\n",
       "      <th>term</th>\n",
       "      <th>int_rate</th>\n",
       "      <th>installment</th>\n",
       "      <th>grade</th>\n",
       "      <th>sub_grade</th>\n",
       "      <th>...</th>\n",
       "      <th>total_bal_il</th>\n",
       "      <th>il_util</th>\n",
       "      <th>open_rv_12m</th>\n",
       "      <th>open_rv_24m</th>\n",
       "      <th>max_bal_bc</th>\n",
       "      <th>all_util</th>\n",
       "      <th>total_rev_hi_lim</th>\n",
       "      <th>inq_fi</th>\n",
       "      <th>total_cu_tl</th>\n",
       "      <th>inq_last_12m</th>\n",
       "    </tr>\n",
       "  </thead>\n",
       "  <tbody>\n",
       "    <tr>\n",
       "      <th>702702</th>\n",
       "      <td>53454663</td>\n",
       "      <td>56985413</td>\n",
       "      <td>2475.0</td>\n",
       "      <td>2475.0</td>\n",
       "      <td>2450.0</td>\n",
       "      <td>36 months</td>\n",
       "      <td>16.99</td>\n",
       "      <td>88.23</td>\n",
       "      <td>D</td>\n",
       "      <td>D3</td>\n",
       "      <td>...</td>\n",
       "      <td>NaN</td>\n",
       "      <td>NaN</td>\n",
       "      <td>NaN</td>\n",
       "      <td>NaN</td>\n",
       "      <td>NaN</td>\n",
       "      <td>NaN</td>\n",
       "      <td>4700.0</td>\n",
       "      <td>NaN</td>\n",
       "      <td>NaN</td>\n",
       "      <td>NaN</td>\n",
       "    </tr>\n",
       "    <tr>\n",
       "      <th>398891</th>\n",
       "      <td>15360298</td>\n",
       "      <td>17432727</td>\n",
       "      <td>13500.0</td>\n",
       "      <td>13500.0</td>\n",
       "      <td>13500.0</td>\n",
       "      <td>60 months</td>\n",
       "      <td>16.59</td>\n",
       "      <td>332.55</td>\n",
       "      <td>D</td>\n",
       "      <td>D1</td>\n",
       "      <td>...</td>\n",
       "      <td>NaN</td>\n",
       "      <td>NaN</td>\n",
       "      <td>NaN</td>\n",
       "      <td>NaN</td>\n",
       "      <td>NaN</td>\n",
       "      <td>NaN</td>\n",
       "      <td>20000.0</td>\n",
       "      <td>NaN</td>\n",
       "      <td>NaN</td>\n",
       "      <td>NaN</td>\n",
       "    </tr>\n",
       "  </tbody>\n",
       "</table>\n",
       "<p>2 rows × 74 columns</p>\n",
       "</div>"
      ],
      "text/plain": [
       "              id  member_id  loan_amnt  funded_amnt  funded_amnt_inv        term  int_rate  installment grade sub_grade     ...      total_bal_il il_util open_rv_12m  open_rv_24m max_bal_bc all_util total_rev_hi_lim inq_fi total_cu_tl inq_last_12m\n",
       "702702  53454663   56985413     2475.0       2475.0           2450.0   36 months     16.99        88.23     D        D3     ...               NaN     NaN         NaN          NaN        NaN      NaN           4700.0    NaN         NaN          NaN\n",
       "398891  15360298   17432727    13500.0      13500.0          13500.0   60 months     16.59       332.55     D        D1     ...               NaN     NaN         NaN          NaN        NaN      NaN          20000.0    NaN         NaN          NaN\n",
       "\n",
       "[2 rows x 74 columns]"
      ]
     },
     "execution_count": 4,
     "metadata": {},
     "output_type": "execute_result"
    }
   ],
   "source": [
    "#Returns a random sample of items - 30% so the dataset is easy to work with\n",
    "df_sample = df.sample(frac = 0.3)\n",
    "df_sample.head(2)"
   ]
  },
  {
   "cell_type": "code",
   "execution_count": 6,
   "metadata": {
    "collapsed": false
   },
   "outputs": [
    {
     "data": {
      "text/plain": [
       "Current                                                180273\n",
       "Fully Paid                                              62366\n",
       "Charged Off                                             13761\n",
       "Late (31-120 days)                                       3430\n",
       "Issued                                                   2580\n",
       "In Grace Period                                          1903\n",
       "Late (16-30 days)                                         708\n",
       "Does not meet the credit policy. Status:Fully Paid        604\n",
       "Default                                                   376\n",
       "Does not meet the credit policy. Status:Charged Off       213\n",
       "Name: loan_status, dtype: int64"
      ]
     },
     "execution_count": 6,
     "metadata": {},
     "output_type": "execute_result"
    }
   ],
   "source": [
    "#Analyzing target variable - loan_status\n",
    "df_sample['loan_status'].value_counts()"
   ]
  },
  {
   "cell_type": "code",
   "execution_count": 7,
   "metadata": {
    "collapsed": false
   },
   "outputs": [
    {
     "data": {
      "text/plain": [
       "Fully Paid     62366\n",
       "Charged Off    13761\n",
       "Default          376\n",
       "Name: loan_status, dtype: int64"
      ]
     },
     "execution_count": 7,
     "metadata": {},
     "output_type": "execute_result"
    }
   ],
   "source": [
    "#getting rid of loans with statuses we do not care about\n",
    "#we do not care about current loans \n",
    "#explanation of difference between charged off and default https://help.lendingclub.com/hc/en-us/articles/216127747\n",
    "#we only care about those loans that are either fully paid or are\n",
    "#very late\n",
    "#too little examples with \"does not meet the credit policy\" to care about these...\n",
    "mask = df_sample['loan_status'].isin(['Fully Paid','Charged Off','Default'])\n",
    "df_sample = df_sample[mask]\n",
    "df_sample['loan_status'].value_counts()"
   ]
  },
  {
   "cell_type": "code",
   "execution_count": 8,
   "metadata": {
    "collapsed": false
   },
   "outputs": [
    {
     "data": {
      "text/plain": [
       "0    62366\n",
       "1    14137\n",
       "Name: Late_Loan, dtype: int64"
      ]
     },
     "execution_count": 8,
     "metadata": {},
     "output_type": "execute_result"
    }
   ],
   "source": [
    "# now we only work with loans that are either fully paid or late > 121 days\n",
    "# We create target variable with these two possible values. Positive class\n",
    "# are late loans - we care about these and want to analyze in detail. \n",
    "\n",
    "def CreateTarget(status): \n",
    "    if status == 'Fully Paid':\n",
    "        return 0\n",
    "    else:\n",
    "        return 1\n",
    "    \n",
    "df_sample['Late_Loan'] = df_sample['loan_status'].map(CreateTarget)\n",
    "df_sample['Late_Loan'].value_counts()"
   ]
  },
  {
   "cell_type": "code",
   "execution_count": 9,
   "metadata": {
    "collapsed": false
   },
   "outputs": [
    {
     "data": {
      "text/plain": [
       "loan_amnt                     0\n",
       "term                          0\n",
       "int_rate                      0\n",
       "installment                   0\n",
       "grade                         0\n",
       "emp_title                     0\n",
       "emp_length                    0\n",
       "home_ownership                0\n",
       "annual_inc                    0\n",
       "issue_d                       0\n",
       "purpose                       0\n",
       "title                         0\n",
       "addr_state                    0\n",
       "dti                           0\n",
       "delinq_2yrs                   0\n",
       "inq_last_6mths                0\n",
       "open_acc                      0\n",
       "pub_rec                       0\n",
       "revol_bal                     0\n",
       "revol_util                    0\n",
       "total_acc                     0\n",
       "collections_12_mths_ex_med    0\n",
       "acc_now_delinq                0\n",
       "Late_Loan                     0\n",
       "dtype: int64"
      ]
     },
     "execution_count": 9,
     "metadata": {},
     "output_type": "execute_result"
    }
   ],
   "source": [
    "#drop features with more than 25% missing values\n",
    "features_missing_series = df_sample.isnull().sum() > len(df_sample)/10\n",
    "features_missing_series = features_missing_series[features_missing_series == True]\n",
    "features_missing_list =  features_missing_series.index.tolist()\n",
    "df_sample = df_sample.drop(features_missing_list,axis =1)\n",
    "\n",
    "# drop features that have no or little predictive power and original target\n",
    "df_sample = df_sample.drop(['id','member_id','loan_status','url','zip_code','policy_code','application_type','last_pymnt_d','last_credit_pull_d','verification_status','pymnt_plan','funded_amnt','funded_amnt_inv','sub_grade','out_prncp','out_prncp_inv','total_pymnt_inv','total_pymnt','total_pymnt_inv','total_rec_prncp','total_rec_int','total_rec_late_fee','recoveries','collection_recovery_fee','last_pymnt_amnt','initial_list_status','earliest_cr_line'],axis =1)\n",
    "\n",
    "#replace missing values with Unknown value or mean when feature is numerical\n",
    "df_sample['emp_title'].fillna('Unknown',inplace = True)\n",
    "df_sample['title'].fillna('Unknown',inplace = True)\n",
    "df_sample['revol_util'].fillna(df_sample['revol_util'].mean(),inplace = True)\n",
    "df_sample['collections_12_mths_ex_med'].fillna(df_sample['collections_12_mths_ex_med'].mean(),inplace = True)\n",
    "\n",
    "df_sample.isnull().sum() #there are no missing values left "
   ]
  }
 ],
 "metadata": {
  "anaconda-cloud": {},
  "kernelspec": {
   "display_name": "Python [conda env:greyatom]",
   "language": "python",
   "name": "conda-env-greyatom-py"
  },
  "language_info": {
   "codemirror_mode": {
    "name": "ipython",
    "version": 2
   },
   "file_extension": ".py",
   "mimetype": "text/x-python",
   "name": "python",
   "nbconvert_exporter": "python",
   "pygments_lexer": "ipython2",
   "version": "2.7.13"
  }
 },
 "nbformat": 4,
 "nbformat_minor": 2
}
